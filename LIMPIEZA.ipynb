{
 "cells": [
  {
   "cell_type": "code",
   "execution_count": 17,
   "id": "a3cb0ca2",
   "metadata": {},
   "outputs": [],
   "source": [
    "import numpy as np\n",
    "import pandas as pd\n",
    "import seaborn as sns\n",
    "import matplotlib.pyplot as plt\n",
    "import matplotlib.pyplot as plt\n",
    "import regex as re"
   ]
  },
  {
   "cell_type": "code",
   "execution_count": 18,
   "id": "2a22dd4e",
   "metadata": {},
   "outputs": [
    {
     "data": {
      "text/html": [
       "<div>\n",
       "<style scoped>\n",
       "    .dataframe tbody tr th:only-of-type {\n",
       "        vertical-align: middle;\n",
       "    }\n",
       "\n",
       "    .dataframe tbody tr th {\n",
       "        vertical-align: top;\n",
       "    }\n",
       "\n",
       "    .dataframe thead th {\n",
       "        text-align: right;\n",
       "    }\n",
       "</style>\n",
       "<table border=\"1\" class=\"dataframe\">\n",
       "  <thead>\n",
       "    <tr style=\"text-align: right;\">\n",
       "      <th></th>\n",
       "      <th>Case Number</th>\n",
       "      <th>Date</th>\n",
       "      <th>Year</th>\n",
       "      <th>Type</th>\n",
       "      <th>Country</th>\n",
       "      <th>Area</th>\n",
       "      <th>Location</th>\n",
       "      <th>Activity</th>\n",
       "      <th>Name</th>\n",
       "      <th>Sex</th>\n",
       "      <th>Age</th>\n",
       "      <th>Injury</th>\n",
       "      <th>Fatal (Y/N)</th>\n",
       "      <th>Time</th>\n",
       "      <th>Species</th>\n",
       "      <th>Investigator or Source</th>\n",
       "      <th>pdf</th>\n",
       "      <th>href formula</th>\n",
       "      <th>href</th>\n",
       "      <th>Case Number.1</th>\n",
       "      <th>Case Number.2</th>\n",
       "      <th>Unnamed: 22</th>\n",
       "      <th>Unnamed: 23</th>\n",
       "    </tr>\n",
       "    <tr>\n",
       "      <th>original order</th>\n",
       "      <th></th>\n",
       "      <th></th>\n",
       "      <th></th>\n",
       "      <th></th>\n",
       "      <th></th>\n",
       "      <th></th>\n",
       "      <th></th>\n",
       "      <th></th>\n",
       "      <th></th>\n",
       "      <th></th>\n",
       "      <th></th>\n",
       "      <th></th>\n",
       "      <th></th>\n",
       "      <th></th>\n",
       "      <th></th>\n",
       "      <th></th>\n",
       "      <th></th>\n",
       "      <th></th>\n",
       "      <th></th>\n",
       "      <th></th>\n",
       "      <th></th>\n",
       "      <th></th>\n",
       "      <th></th>\n",
       "    </tr>\n",
       "  </thead>\n",
       "  <tbody>\n",
       "    <tr>\n",
       "      <th>6303.0</th>\n",
       "      <td>2018.06.25</td>\n",
       "      <td>25-Jun-2018</td>\n",
       "      <td>2018.0</td>\n",
       "      <td>Boating</td>\n",
       "      <td>USA</td>\n",
       "      <td>California</td>\n",
       "      <td>Oceanside, San Diego County</td>\n",
       "      <td>Paddling</td>\n",
       "      <td>Julie Wolfe</td>\n",
       "      <td>F</td>\n",
       "      <td>57</td>\n",
       "      <td>No injury to occupant, outrigger canoe and pad...</td>\n",
       "      <td>N</td>\n",
       "      <td>18h00</td>\n",
       "      <td>White shark</td>\n",
       "      <td>R. Collier, GSAF</td>\n",
       "      <td>2018.06.25-Wolfe.pdf</td>\n",
       "      <td>http://sharkattackfile.net/spreadsheets/pdf_di...</td>\n",
       "      <td>http://sharkattackfile.net/spreadsheets/pdf_di...</td>\n",
       "      <td>2018.06.25</td>\n",
       "      <td>2018.06.25</td>\n",
       "      <td>NaN</td>\n",
       "      <td>NaN</td>\n",
       "    </tr>\n",
       "    <tr>\n",
       "      <th>6302.0</th>\n",
       "      <td>2018.06.18</td>\n",
       "      <td>18-Jun-2018</td>\n",
       "      <td>2018.0</td>\n",
       "      <td>Unprovoked</td>\n",
       "      <td>USA</td>\n",
       "      <td>Georgia</td>\n",
       "      <td>St. Simon Island, Glynn County</td>\n",
       "      <td>Standing</td>\n",
       "      <td>Adyson McNeely</td>\n",
       "      <td>F</td>\n",
       "      <td>11</td>\n",
       "      <td>Minor injury to left thigh</td>\n",
       "      <td>N</td>\n",
       "      <td>14h00  -15h00</td>\n",
       "      <td>NaN</td>\n",
       "      <td>K.McMurray, TrackingSharks.com</td>\n",
       "      <td>2018.06.18-McNeely.pdf</td>\n",
       "      <td>http://sharkattackfile.net/spreadsheets/pdf_di...</td>\n",
       "      <td>http://sharkattackfile.net/spreadsheets/pdf_di...</td>\n",
       "      <td>2018.06.18</td>\n",
       "      <td>2018.06.18</td>\n",
       "      <td>NaN</td>\n",
       "      <td>NaN</td>\n",
       "    </tr>\n",
       "    <tr>\n",
       "      <th>6301.0</th>\n",
       "      <td>2018.06.09</td>\n",
       "      <td>09-Jun-2018</td>\n",
       "      <td>2018.0</td>\n",
       "      <td>Invalid</td>\n",
       "      <td>USA</td>\n",
       "      <td>Hawaii</td>\n",
       "      <td>Habush, Oahu</td>\n",
       "      <td>Surfing</td>\n",
       "      <td>John Denges</td>\n",
       "      <td>M</td>\n",
       "      <td>48</td>\n",
       "      <td>Injury to left lower leg from surfboard skeg</td>\n",
       "      <td>N</td>\n",
       "      <td>07h45</td>\n",
       "      <td>NaN</td>\n",
       "      <td>K.McMurray, TrackingSharks.com</td>\n",
       "      <td>2018.06.09-Denges.pdf</td>\n",
       "      <td>http://sharkattackfile.net/spreadsheets/pdf_di...</td>\n",
       "      <td>http://sharkattackfile.net/spreadsheets/pdf_di...</td>\n",
       "      <td>2018.06.09</td>\n",
       "      <td>2018.06.09</td>\n",
       "      <td>NaN</td>\n",
       "      <td>NaN</td>\n",
       "    </tr>\n",
       "    <tr>\n",
       "      <th>6300.0</th>\n",
       "      <td>2018.06.08</td>\n",
       "      <td>08-Jun-2018</td>\n",
       "      <td>2018.0</td>\n",
       "      <td>Unprovoked</td>\n",
       "      <td>AUSTRALIA</td>\n",
       "      <td>New South Wales</td>\n",
       "      <td>Arrawarra Headland</td>\n",
       "      <td>Surfing</td>\n",
       "      <td>male</td>\n",
       "      <td>M</td>\n",
       "      <td>NaN</td>\n",
       "      <td>Minor injury to lower leg</td>\n",
       "      <td>N</td>\n",
       "      <td>NaN</td>\n",
       "      <td>2 m shark</td>\n",
       "      <td>B. Myatt, GSAF</td>\n",
       "      <td>2018.06.08-Arrawarra.pdf</td>\n",
       "      <td>http://sharkattackfile.net/spreadsheets/pdf_di...</td>\n",
       "      <td>http://sharkattackfile.net/spreadsheets/pdf_di...</td>\n",
       "      <td>2018.06.08</td>\n",
       "      <td>2018.06.08</td>\n",
       "      <td>NaN</td>\n",
       "      <td>NaN</td>\n",
       "    </tr>\n",
       "    <tr>\n",
       "      <th>6299.0</th>\n",
       "      <td>2018.06.04</td>\n",
       "      <td>04-Jun-2018</td>\n",
       "      <td>2018.0</td>\n",
       "      <td>Provoked</td>\n",
       "      <td>MEXICO</td>\n",
       "      <td>Colima</td>\n",
       "      <td>La Ticla</td>\n",
       "      <td>Free diving</td>\n",
       "      <td>Gustavo Ramos</td>\n",
       "      <td>M</td>\n",
       "      <td>NaN</td>\n",
       "      <td>Lacerations to leg &amp; hand shark PROVOKED INCIDENT</td>\n",
       "      <td>N</td>\n",
       "      <td>NaN</td>\n",
       "      <td>Tiger shark, 3m</td>\n",
       "      <td>A .Kipper</td>\n",
       "      <td>2018.06.04-Ramos.pdf</td>\n",
       "      <td>http://sharkattackfile.net/spreadsheets/pdf_di...</td>\n",
       "      <td>http://sharkattackfile.net/spreadsheets/pdf_di...</td>\n",
       "      <td>2018.06.04</td>\n",
       "      <td>2018.06.04</td>\n",
       "      <td>NaN</td>\n",
       "      <td>NaN</td>\n",
       "    </tr>\n",
       "  </tbody>\n",
       "</table>\n",
       "</div>"
      ],
      "text/plain": [
       "               Case Number         Date    Year        Type    Country  \\\n",
       "original order                                                           \n",
       "6303.0          2018.06.25  25-Jun-2018  2018.0     Boating        USA   \n",
       "6302.0          2018.06.18  18-Jun-2018  2018.0  Unprovoked        USA   \n",
       "6301.0          2018.06.09  09-Jun-2018  2018.0     Invalid        USA   \n",
       "6300.0          2018.06.08  08-Jun-2018  2018.0  Unprovoked  AUSTRALIA   \n",
       "6299.0          2018.06.04  04-Jun-2018  2018.0    Provoked     MEXICO   \n",
       "\n",
       "                           Area                        Location     Activity  \\\n",
       "original order                                                                 \n",
       "6303.0               California     Oceanside, San Diego County     Paddling   \n",
       "6302.0                  Georgia  St. Simon Island, Glynn County     Standing   \n",
       "6301.0                   Hawaii                    Habush, Oahu      Surfing   \n",
       "6300.0          New South Wales              Arrawarra Headland      Surfing   \n",
       "6299.0                   Colima                        La Ticla  Free diving   \n",
       "\n",
       "                           Name Sex   Age  \\\n",
       "original order                              \n",
       "6303.0              Julie Wolfe    F   57   \n",
       "6302.0          Adyson McNeely     F   11   \n",
       "6301.0              John Denges    M   48   \n",
       "6300.0                     male    M  NaN   \n",
       "6299.0           Gustavo Ramos     M  NaN   \n",
       "\n",
       "                                                           Injury Fatal (Y/N)  \\\n",
       "original order                                                                  \n",
       "6303.0          No injury to occupant, outrigger canoe and pad...           N   \n",
       "6302.0                                 Minor injury to left thigh           N   \n",
       "6301.0               Injury to left lower leg from surfboard skeg           N   \n",
       "6300.0                                  Minor injury to lower leg           N   \n",
       "6299.0          Lacerations to leg & hand shark PROVOKED INCIDENT           N   \n",
       "\n",
       "                         Time         Species   \\\n",
       "original order                                   \n",
       "6303.0                  18h00      White shark   \n",
       "6302.0          14h00  -15h00              NaN   \n",
       "6301.0                  07h45              NaN   \n",
       "6300.0                    NaN        2 m shark   \n",
       "6299.0                    NaN  Tiger shark, 3m   \n",
       "\n",
       "                        Investigator or Source                       pdf  \\\n",
       "original order                                                             \n",
       "6303.0                        R. Collier, GSAF      2018.06.25-Wolfe.pdf   \n",
       "6302.0          K.McMurray, TrackingSharks.com    2018.06.18-McNeely.pdf   \n",
       "6301.0          K.McMurray, TrackingSharks.com     2018.06.09-Denges.pdf   \n",
       "6300.0                          B. Myatt, GSAF  2018.06.08-Arrawarra.pdf   \n",
       "6299.0                               A .Kipper      2018.06.04-Ramos.pdf   \n",
       "\n",
       "                                                     href formula  \\\n",
       "original order                                                      \n",
       "6303.0          http://sharkattackfile.net/spreadsheets/pdf_di...   \n",
       "6302.0          http://sharkattackfile.net/spreadsheets/pdf_di...   \n",
       "6301.0          http://sharkattackfile.net/spreadsheets/pdf_di...   \n",
       "6300.0          http://sharkattackfile.net/spreadsheets/pdf_di...   \n",
       "6299.0          http://sharkattackfile.net/spreadsheets/pdf_di...   \n",
       "\n",
       "                                                             href  \\\n",
       "original order                                                      \n",
       "6303.0          http://sharkattackfile.net/spreadsheets/pdf_di...   \n",
       "6302.0          http://sharkattackfile.net/spreadsheets/pdf_di...   \n",
       "6301.0          http://sharkattackfile.net/spreadsheets/pdf_di...   \n",
       "6300.0          http://sharkattackfile.net/spreadsheets/pdf_di...   \n",
       "6299.0          http://sharkattackfile.net/spreadsheets/pdf_di...   \n",
       "\n",
       "               Case Number.1 Case Number.2 Unnamed: 22 Unnamed: 23  \n",
       "original order                                                      \n",
       "6303.0            2018.06.25    2018.06.25         NaN         NaN  \n",
       "6302.0            2018.06.18    2018.06.18         NaN         NaN  \n",
       "6301.0            2018.06.09    2018.06.09         NaN         NaN  \n",
       "6300.0            2018.06.08    2018.06.08         NaN         NaN  \n",
       "6299.0            2018.06.04    2018.06.04         NaN         NaN  "
      ]
     },
     "execution_count": 18,
     "metadata": {},
     "output_type": "execute_result"
    }
   ],
   "source": [
    "# I import the shark attacks csv file from folder\n",
    "attacks = pd.read_csv(\"DATA/attacks.csv\", encoding = \"ISO-8859-1\", index_col = 'original order')\n",
    "attacks.head()\n",
    "# I also assigned the original order column as the index of the data frame"
   ]
  },
  {
   "cell_type": "code",
   "execution_count": 19,
   "id": "9cf59eeb",
   "metadata": {},
   "outputs": [
    {
     "data": {
      "text/plain": [
       "(25723, 23)"
      ]
     },
     "execution_count": 19,
     "metadata": {},
     "output_type": "execute_result"
    }
   ],
   "source": [
    "attacks.shape"
   ]
  },
  {
   "cell_type": "code",
   "execution_count": 20,
   "id": "26ef5432",
   "metadata": {},
   "outputs": [],
   "source": [
    "# I want to be able to observe all the given columns of the data set that are not visible now\n",
    "attacks = pd.set_option('display.max_columns', 24)\n",
    "attacks"
   ]
  },
  {
   "cell_type": "code",
   "execution_count": 22,
   "id": "ee27bb7d",
   "metadata": {},
   "outputs": [
    {
     "ename": "AttributeError",
     "evalue": "module 'pandas' has no attribute 'columns'",
     "output_type": "error",
     "traceback": [
      "\u001b[0;31m---------------------------------------------------------------------------\u001b[0m",
      "\u001b[0;31mAttributeError\u001b[0m                            Traceback (most recent call last)",
      "\u001b[0;32m<ipython-input-22-d26a08f124bd>\u001b[0m in \u001b[0;36m<module>\u001b[0;34m\u001b[0m\n\u001b[1;32m      1\u001b[0m \u001b[0;31m# I clean the column titles from spaces as they can bring problems when refering to them\u001b[0m\u001b[0;34m\u001b[0m\u001b[0;34m\u001b[0m\u001b[0;34m\u001b[0m\u001b[0m\n\u001b[0;32m----> 2\u001b[0;31m \u001b[0mattacks\u001b[0m \u001b[0;34m=\u001b[0m \u001b[0mpd\u001b[0m\u001b[0;34m.\u001b[0m\u001b[0mcolumns\u001b[0m\u001b[0;34m.\u001b[0m\u001b[0mstr\u001b[0m\u001b[0;34m.\u001b[0m\u001b[0mreplace\u001b[0m\u001b[0;34m(\u001b[0m\u001b[0;34m' '\u001b[0m\u001b[0;34m,\u001b[0m \u001b[0;34m''\u001b[0m\u001b[0;34m)\u001b[0m\u001b[0;34m\u001b[0m\u001b[0;34m\u001b[0m\u001b[0m\n\u001b[0m\u001b[1;32m      3\u001b[0m \u001b[0mattacks\u001b[0m\u001b[0;34m.\u001b[0m\u001b[0mhead\u001b[0m\u001b[0;34m(\u001b[0m\u001b[0;34m)\u001b[0m\u001b[0;34m\u001b[0m\u001b[0;34m\u001b[0m\u001b[0m\n",
      "\u001b[0;32m~/.local/lib/python3.8/site-packages/pandas/__init__.py\u001b[0m in \u001b[0;36m__getattr__\u001b[0;34m(name)\u001b[0m\n\u001b[1;32m    242\u001b[0m         \u001b[0;32mreturn\u001b[0m \u001b[0m_SparseArray\u001b[0m\u001b[0;34m\u001b[0m\u001b[0;34m\u001b[0m\u001b[0m\n\u001b[1;32m    243\u001b[0m \u001b[0;34m\u001b[0m\u001b[0m\n\u001b[0;32m--> 244\u001b[0;31m     \u001b[0;32mraise\u001b[0m \u001b[0mAttributeError\u001b[0m\u001b[0;34m(\u001b[0m\u001b[0;34mf\"module 'pandas' has no attribute '{name}'\"\u001b[0m\u001b[0;34m)\u001b[0m\u001b[0;34m\u001b[0m\u001b[0;34m\u001b[0m\u001b[0m\n\u001b[0m\u001b[1;32m    245\u001b[0m \u001b[0;34m\u001b[0m\u001b[0m\n\u001b[1;32m    246\u001b[0m \u001b[0;34m\u001b[0m\u001b[0m\n",
      "\u001b[0;31mAttributeError\u001b[0m: module 'pandas' has no attribute 'columns'"
     ]
    }
   ],
   "source": [
    "# I clean the column titles from spaces as they can bring problems when refering to them\n",
    "attacks = atatcks.columns.str.replace(' ', '')\n",
    "attacks.head()"
   ]
  },
  {
   "cell_type": "code",
   "execution_count": null,
   "id": "a1473284",
   "metadata": {},
   "outputs": [],
   "source": [
    "# I observe how the last rows are completely full of NaNs\n",
    "attacks.tail()"
   ]
  },
  {
   "cell_type": "code",
   "execution_count": null,
   "id": "d2eaf6df",
   "metadata": {},
   "outputs": [],
   "source": [
    "# We can see how the data frame is completely full of NaNs\n",
    "attacks = attacks.isnull().sum()\n",
    "attacks"
   ]
  },
  {
   "cell_type": "code",
   "execution_count": null,
   "id": "bb50c7f7",
   "metadata": {},
   "outputs": [],
   "source": [
    "# Some columns are apparently full of NaNs\n",
    "attacks[\"Unnamed:22\"]"
   ]
  },
  {
   "cell_type": "code",
   "execution_count": null,
   "id": "35440bb3",
   "metadata": {
    "scrolled": true
   },
   "outputs": [],
   "source": [
    "# I sort the order of the index\n",
    "attacks.sort_index()"
   ]
  },
  {
   "cell_type": "code",
   "execution_count": null,
   "id": "c72d6f9d",
   "metadata": {
    "scrolled": true
   },
   "outputs": [],
   "source": [
    "# The two columns with numeric data in the data frame are:\n",
    "attacks._get_numeric_data()\n",
    "atatcks.head()"
   ]
  },
  {
   "cell_type": "code",
   "execution_count": null,
   "id": "0f2c7a4c",
   "metadata": {},
   "outputs": [],
   "source": [
    "nums.sort_index()"
   ]
  },
  {
   "cell_type": "code",
   "execution_count": null,
   "id": "45df9715",
   "metadata": {},
   "outputs": [],
   "source": [
    "# I visualize the columns I have\n",
    "attacks.columns"
   ]
  },
  {
   "cell_type": "code",
   "execution_count": null,
   "id": "4d22b693",
   "metadata": {},
   "outputs": [],
   "source": [
    "# I change the column names to one that easier ones and indicate those I want to erase with \"Borrar\"\n",
    "attacks.rename(columns['Date', 'Borrar_1', 'Borra_2', 'Type', 'Country', 'Area', 'Location',\n",
    "       'Activity', 'Name', 'Sex', 'Age', 'Injury', 'Fatal(Y/N)', 'Time',\n",
    "       'Species', 'InvestigatororSource', 'pdf', 'href', 'Borrar_3',\n",
    "       'Borrar_4', 'Borrar_5', 'Borrar_6', 'Borrar_7']"
   ]
  },
  {
   "cell_type": "code",
   "execution_count": null,
   "id": "dc765f77",
   "metadata": {},
   "outputs": [],
   "source": [
    "attacks.head()"
   ]
  },
  {
   "cell_type": "code",
   "execution_count": null,
   "id": "6e291b54",
   "metadata": {},
   "outputs": [],
   "source": [
    "# I erase those columns I do not need in I new variable to prepare my data frame for hypothesis\n",
    "attacks = attacks.drop(['Borrar_1', 'Borrar_3',\n",
    "       'Borrar_4', 'Borrar_5', 'Borrar_6', 'Borrar_7'], axis = 1)"
   ]
  },
  {
   "cell_type": "code",
   "execution_count": null,
   "id": "081db258",
   "metadata": {},
   "outputs": [],
   "source": [
    "attacks.shape"
   ]
  },
  {
   "cell_type": "code",
   "execution_count": null,
   "id": "e78f2979",
   "metadata": {},
   "outputs": [],
   "source": [
    "# Change name of column to year\n",
    "attacks.rename(columns={'Borra_2': 'Year'}, inplace=True)"
   ]
  },
  {
   "cell_type": "code",
   "execution_count": null,
   "id": "86d1ee14",
   "metadata": {},
   "outputs": [],
   "source": [
    "attacks.head()"
   ]
  },
  {
   "cell_type": "code",
   "execution_count": null,
   "id": "71a6b205",
   "metadata": {},
   "outputs": [],
   "source": [
    "# Sort and match index with the Case Numbers in cronological order\n",
    "atatcks.index.names = ['Case_Number']"
   ]
  },
  {
   "cell_type": "code",
   "execution_count": null,
   "id": "943a83ef",
   "metadata": {
    "scrolled": true
   },
   "outputs": [],
   "source": [
    "attacks.sort_index(0, int, True)"
   ]
  },
  {
   "cell_type": "code",
   "execution_count": null,
   "id": "b3f76cea",
   "metadata": {},
   "outputs": [],
   "source": [
    "# Establish the range of the index\n",
    "mi_lista = df.index[0:6301]"
   ]
  },
  {
   "cell_type": "code",
   "execution_count": null,
   "id": "51ee7f5f",
   "metadata": {
    "scrolled": false
   },
   "outputs": [],
   "source": [
    "len(mi_lista)"
   ]
  },
  {
   "cell_type": "code",
   "execution_count": null,
   "id": "bf588f0b",
   "metadata": {},
   "outputs": [],
   "source": [
    "# filter the rows below the established index as they do not serve the purpose of the study\n",
    "filt_attacks = attacks.loc[mi_lista]"
   ]
  },
  {
   "cell_type": "code",
   "execution_count": null,
   "id": "b36c3ac7",
   "metadata": {},
   "outputs": [],
   "source": [
    "filt_attacks = filt_attacks.dropna(axis=0, how='all')\n",
    "#Nos aseguramos que no queda ninguna fila entera de NaNs"
   ]
  },
  {
   "cell_type": "code",
   "execution_count": null,
   "id": "dd8e956d",
   "metadata": {},
   "outputs": [],
   "source": [
    "filt_attacks"
   ]
  },
  {
   "cell_type": "code",
   "execution_count": null,
   "id": "24db36ef",
   "metadata": {},
   "outputs": [],
   "source": [
    "# Borramos filas con un 30% o más de NaNs\n",
    "perc = 30.0 # N es 75\n",
    "min_count = int(((100-perc)/100)*filt_attacks.shape[1]+1)\n",
    "nona_attacks = filt_attacks.dropna(axis=0, thresh=min_count)"
   ]
  },
  {
   "cell_type": "code",
   "execution_count": null,
   "id": "a2330436",
   "metadata": {},
   "outputs": [],
   "source": [
    "nona_attacks"
   ]
  },
  {
   "cell_type": "code",
   "execution_count": null,
   "id": "e133713a",
   "metadata": {},
   "outputs": [],
   "source": [
    "nona_attacks.shape"
   ]
  },
  {
   "cell_type": "code",
   "execution_count": null,
   "id": "ea15d946",
   "metadata": {},
   "outputs": [],
   "source": [
    "nona_attacks['Year'].replace('0', 'no_year', regex=True)"
   ]
  },
  {
   "cell_type": "code",
   "execution_count": null,
   "id": "85f54bcf",
   "metadata": {},
   "outputs": [],
   "source": [
    "nona_attacks.info()"
   ]
  },
  {
   "cell_type": "code",
   "execution_count": null,
   "id": "03682819",
   "metadata": {
    "scrolled": false
   },
   "outputs": [],
   "source": [
    "from SRC import cleaning_functions.ipynb as cf"
   ]
  },
  {
   "cell_type": "code",
   "execution_count": null,
   "id": "585b234b",
   "metadata": {},
   "outputs": [],
   "source": [
    "#Covertir en datetime\n",
    "nona_attacks.Date = pd.to_datetime(nona_attacks.Date)"
   ]
  },
  {
   "cell_type": "code",
   "execution_count": null,
   "id": "a21146b5",
   "metadata": {},
   "outputs": [],
   "source": [
    "nona_attacks.to_csv(\"VISUAL.ipynb/nona_attacks.csv\")"
   ]
  },
  {
   "cell_type": "code",
   "execution_count": null,
   "id": "603d6e86",
   "metadata": {},
   "outputs": [],
   "source": []
  }
 ],
 "metadata": {
  "kernelspec": {
   "display_name": "ironhack",
   "language": "python",
   "name": "ironhack"
  },
  "language_info": {
   "codemirror_mode": {
    "name": "ipython",
    "version": 3
   },
   "file_extension": ".py",
   "mimetype": "text/x-python",
   "name": "python",
   "nbconvert_exporter": "python",
   "pygments_lexer": "ipython3",
   "version": "3.8.8"
  }
 },
 "nbformat": 4,
 "nbformat_minor": 5
}
